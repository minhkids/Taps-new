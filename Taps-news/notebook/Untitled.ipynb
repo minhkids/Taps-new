{
 "cells": [
  {
   "cell_type": "code",
   "execution_count": 6,
   "id": "6cd038bb",
   "metadata": {},
   "outputs": [],
   "source": [
    "import json\n",
    "import pandas as pd\n",
    "import requests\n",
    "import os\n",
    "import re\n",
    "from sklearn.feature_extraction.text import TfidfVectorizer\n",
    "from datetime import datetime"
   ]
  },
  {
   "cell_type": "code",
   "execution_count": 7,
   "id": "f2c12b28",
   "metadata": {},
   "outputs": [],
   "source": [
    "def convert_timestamp(timestamp):\n",
    "    dt_object = datetime.fromtimestamp(timestamp)\n",
    "    return str(dt_object)"
   ]
  },
  {
   "cell_type": "code",
   "execution_count": 19,
   "id": "2f653c97",
   "metadata": {},
   "outputs": [
    {
     "name": "stdout",
     "output_type": "stream",
     "text": [
      "2021-11-03 10:31:31.926944\n"
     ]
    }
   ],
   "source": [
    "in_time = \"5 giờ trước\"\n",
    "a = ''\n",
    "str_time = re.sub(\"[^0-9]\", \"\", in_time)\n",
    "if \"phút trước\" in in_time:\n",
    "    a = str(pd.Timestamp.now() - pd.Timedelta(hours=1))\n",
    "if \"giờ trước\" in in_time:\n",
    "    a = str(pd.Timestamp.now() - pd.Timedelta(hours=int(str_time)))\n",
    "    \n",
    "print(a)"
   ]
  },
  {
   "cell_type": "code",
   "execution_count": 15,
   "id": "fbf6ed11",
   "metadata": {},
   "outputs": [
    {
     "name": "stdout",
     "output_type": "stream",
     "text": [
      "fuck\n"
     ]
    },
    {
     "data": {
      "text/plain": [
       "'5'"
      ]
     },
     "execution_count": 15,
     "metadata": {},
     "output_type": "execute_result"
    }
   ],
   "source": [
    "st = \"5 phut truoc\"\n",
    "if \"phut truoc\" in st:\n",
    "    print(\"fuck\")\n",
    "re.sub(\"[^0-9]\", \"\", st)"
   ]
  },
  {
   "cell_type": "code",
   "execution_count": 38,
   "id": "19aeb776",
   "metadata": {},
   "outputs": [
    {
     "name": "stdout",
     "output_type": "stream",
     "text": [
      "  (0, 2)\t0.004891911185358294\n",
      "  (0, 1)\t0.038996095034281905\n",
      "  (0, 0)\t0.9999999999999992\n",
      "  (1, 0)\t0.038996095034281905\n",
      "  (1, 2)\t0.06716792650936215\n",
      "  (1, 1)\t1.0000000000000004\n",
      "  (2, 0)\t0.004891911185358294\n",
      "  (2, 1)\t0.06716792650936215\n",
      "  (2, 2)\t1.0\n",
      "[[1.         0.0389961  0.00489191]\n",
      " [0.0389961  1.         0.06716793]\n",
      " [0.00489191 0.06716793 1.        ]]\n"
     ]
    },
    {
     "ename": "NameError",
     "evalue": "name 'SAME_NEWS_SIMILARITY_THRESHOLD' is not defined",
     "output_type": "error",
     "traceback": [
      "\u001b[1;31m---------------------------------------------------------------------------\u001b[0m",
      "\u001b[1;31mNameError\u001b[0m                                 Traceback (most recent call last)",
      "\u001b[1;32m~\\AppData\\Local\\Temp/ipykernel_5148/112574265.py\u001b[0m in \u001b[0;36m<module>\u001b[1;34m\u001b[0m\n\u001b[0;32m     16\u001b[0m \u001b[1;33m\u001b[0m\u001b[0m\n\u001b[0;32m     17\u001b[0m \u001b[1;32mfor\u001b[0m \u001b[0mrow\u001b[0m \u001b[1;32min\u001b[0m \u001b[0mrange\u001b[0m\u001b[1;33m(\u001b[0m\u001b[1;36m1\u001b[0m\u001b[1;33m,\u001b[0m \u001b[0mrows\u001b[0m\u001b[1;33m)\u001b[0m\u001b[1;33m:\u001b[0m\u001b[1;33m\u001b[0m\u001b[1;33m\u001b[0m\u001b[0m\n\u001b[1;32m---> 18\u001b[1;33m     \u001b[1;32mif\u001b[0m \u001b[0mpairwise_sim\u001b[0m\u001b[1;33m[\u001b[0m\u001b[0mrow\u001b[0m\u001b[1;33m,\u001b[0m \u001b[1;36m0\u001b[0m\u001b[1;33m]\u001b[0m \u001b[1;33m>\u001b[0m \u001b[0mSAME_NEWS_SIMILARITY_THRESHOLD\u001b[0m\u001b[1;33m:\u001b[0m\u001b[1;33m\u001b[0m\u001b[1;33m\u001b[0m\u001b[0m\n\u001b[0m\u001b[0;32m     19\u001b[0m         \u001b[1;31m# Duplicated news, ignore.\u001b[0m\u001b[1;33m\u001b[0m\u001b[1;33m\u001b[0m\u001b[1;33m\u001b[0m\u001b[0m\n\u001b[0;32m     20\u001b[0m         \u001b[0mprint\u001b[0m \u001b[1;33m(\u001b[0m\u001b[1;34m'Duplicated news, ignore.'\u001b[0m\u001b[1;33m)\u001b[0m\u001b[1;33m\u001b[0m\u001b[1;33m\u001b[0m\u001b[0m\n",
      "\u001b[1;31mNameError\u001b[0m: name 'SAME_NEWS_SIMILARITY_THRESHOLD' is not defined"
     ]
    }
   ],
   "source": [
    "# def caculate_dup(text):\n",
    "documents = ['Vinh Park River đáp ứng nhu cầu đô thị sinh thái tại Nghệ An. Vinh Park River mang cảm hứng công viên bách thảo, được bao bọc bởi sông Lam và sông Cầu Gãy, đáp ứng nhu cầu khu đô thị sinh thái tại thị trường Nghệ An. ',\n",
    "            'Eden garden ra mắt nhà mẫu và văn phòng bán hàng. THÁI BÌNH Tập đoàn BIDGroup vừa ra mắt khu nhà mẫu và văn phòng bán hàng của dự án Eden Garden. ',\n",
    "            'Dòng vốn địa ốc thay đổi diện mạo Sầm Sơn sau một thập kỷ. Sự xuất hiện của những ông lớn địa ốc, trong đó có Sun Group tạo ra sự lột xác về cơ sở hạ tầng và văn hóa du lịch, giúp Sầm Sơn trụ vững trong dịch bệnh. ',]\n",
    "# documents.insert(0, text)\n",
    "\n",
    "# Calculate similarity matrix\n",
    "tfidf = TfidfVectorizer().fit_transform(documents)\n",
    "# print(tfidf)\n",
    "pairwise_sim = tfidf * tfidf.T\n",
    "print(pairwise_sim)\n",
    "\n",
    "print(pairwise_sim.A)\n",
    "\n",
    "rows, _ = pairwise_sim.shape\n",
    "\n",
    "for row in range(1, rows):\n",
    "    if pairwise_sim[row, 0] > SAME_NEWS_SIMILARITY_THRESHOLD:\n",
    "        # Duplicated news, ignore.\n",
    "        print ('Duplicated news, ignore.')\n",
    "#         return\n",
    "db[NEWS_TABLE_NAME].insert_one(task)"
   ]
  },
  {
   "cell_type": "markdown",
   "id": "91c8c0e2",
   "metadata": {},
   "source": [
    "# VNExpress"
   ]
  },
  {
   "cell_type": "code",
   "execution_count": 1,
   "id": "0aefb81f",
   "metadata": {},
   "outputs": [
    {
     "name": "stderr",
     "output_type": "stream",
     "text": [
      "D:\\tailieu\\triTueNhanTao\\NLP\\Tap-News\\venv\\lib\\site-packages\\urllib3\\connectionpool.py:1020: InsecureRequestWarning: Unverified HTTPS request is being made to host 'gw.vnexpress.net'. Adding certificate verification is strongly advised. See: https://urllib3.readthedocs.io/en/1.26.x/advanced-usage.html#ssl-warnings\n",
      "  InsecureRequestWarning,\n"
     ]
    },
    {
     "data": {
      "text/plain": [
       "'{\"code\":200,\"data\":{\"1003181\":{\"data\":[{\"article_id\":4379543,\"article_type\":1,\"title\":\"Sun Property nâng tầm giá trị sống tại dự án Sun Tropical Village\",\"lead\":\"Theo chủ đầu tư, cư dân \\\\\"ngôi làng nhiệt đới\\\\\" Sun Tropical Village được hưởng dịch vụ 5 sao tại gia, cùng chuỗi tiện ích chăm sóc sức khỏe đẳng cấp.\",\"share_url\":\"https://vnexpress.net/sun-property-nang-tam-gia-tri-song-tai-du-an-sun-tropical-village-4379543.html\",\"thumbnail_url\":\"https://i-kinhdoanh.vnecdn.net/2021/10/31/anh-2-1635694049-1222-1635694280.jpg\",\"publish_time\":1635732000,\"privacy\":128,\"article_category\":{\"cate_name\":\"Bất động sản\",\"cate_url\":\"/kinh-doanh/bat-dong-san\",\"full_parent\":\"1003159\"},\"off_thumb\":0,\"thumb_list\":{\"thumb_120_72_100_1_crop\":\"https://i1-kinhdoanh.vnecdn.net/2021/10/31/anh-2-1635694049-1222-1635694280.jpg?w=120\\\\u0026h=72\\\\u0026q=100\\\\u0026dpr=1\\\\u0026fit=crop\\\\u0026s=a4t7Ym_jcc6xMTHqs2f6SA\",\"thumb_120_72_100_2_crop\":\"https://i1-kinhdoanh.vnecdn.net/2021/10/31/anh-2-1635694049-1222-1635694280.jpg?w=120\\\\u0026h=72\\\\u0026q=100\\\\u0026dpr=2\\\\u0026fit=crop\\\\u0026s=s1J7P4SuIYC0_r0Sf6Rgww\"}},{\"article_id\":4378822,\"article_type\":1,\"title\":\"Lợi thế đầu tư tại Flamingo Cát Bà\",\"lead\":\"Thiết kế theo lối kiến trúc rừng xanh trên cao, đáp ứng nhu cầu sinh lời lâu dài... là những điểm nhấn thu hút nhà đầu tư tại Flamingo Cát Bà.\",\"share_url\":\"https://vnexpress.net/loi-the-dau-tu-tai-flamingo-cat-ba-4378822.html\",\"thumbnail_url\":\"https://i-kinhdoanh.vnecdn.net/2021/10/29/image-944909726-extractword-0-9931-3378-1635503862.png\",\"publish_time\":1635732000,\"privacy\":128,\"article_category\":{\"cate_name\":\"Bất động sản\",\"cate_url\":\"/kinh-doanh/bat-dong-san\",\"full_parent\":\"1003159\"},\"off_thumb\":0,\"thumb_list\":{\"thumb_120_72_100_1_crop\":\"https://i1-kinhdoanh.vnecdn.net/2021/10/29/image-944909726-extractword-0-9931-3378-1635503862.png?w=120\\\\u0026h=72\\\\u0026q=100\\\\u0026dpr=1\\\\u0026fit=crop\\\\u0026s=V5pue17dHk2uNqFN8w4ZMg\",\"thumb_120_72_100_2_crop\":\"https://i1-kinhdoanh.vnecdn.net/2021/10/29/image-944909726-extractword-0-9931-3378-1635503862.png?w=120\\\\u0026h=72\\\\u0026q=100\\\\u0026dpr=2\\\\u0026fit=crop\\\\u0026s=5yfV6o3nRN18liWPpEa_rA\"}},{\"article_id\":4378302,\"article_type\":1,\"title\":\"Chủ đầu tư chi hàng triệu USD cho tiện ích chăm sóc sức khỏe\",\"lead\":\"Tham gia đường đua bất động sản cuối năm, các \\\\\"ông lớn\\\\\" địa ốc ra mắt các sản phẩm gắn liền với loạt tiện ích chăm sóc sức khỏe - xu hướng đang lên ngôi hậu giãn cách.\",\"share_url\":\"https://vnexpress.net/chu-dau-tu-chi-hang-trieu-usd-cho-tien-ich-cham-soc-suc-khoe-4378302.html\",\"thumbnail_url\":\"https://i-kinhdoanh.vnecdn.net/2021/10/31/image004-1635655247-5368-1635655298.jpg\",\"publish_time\":1635728400,\"privacy\":128,\"article_category\":{\"cate_name\":\"Bất động sản\",\"cate_url\":\"/kinh-doanh/bat-dong-san\",\"full_parent\":\"1003159\"},\"off_thumb\":0,\"thumb_list\":{\"thumb_120_72_100_1_crop\":\"https://i1-kinhdoanh.vnecdn.net/2021/10/31/image004-1635655247-5368-1635655298.jpg?w=120\\\\u0026h=72\\\\u0026q=100\\\\u0026dpr=1\\\\u0026fit=crop\\\\u0026s=eISVFWhAqIcVjzfcU5c34Q\",\"thumb_120_72_100_2_crop\":\"https://i1-kinhdoanh.vnecdn.net/2021/10/31/image004-1635655247-5368-1635655298.jpg?w=120\\\\u0026h=72\\\\u0026q=100\\\\u0026dpr=2\\\\u0026fit=crop\\\\u0026s=w31q8RMyuHB7Vz2pLcyV9Q\"}},{\"article_id\":4378195,\"article_type\":7,\"title\":\"Triển vọng đầu tư đô thị biển Bình Thuận\",\"lead\":\"Tổ hợp đô thị biển 90ha, 12 phân khu chức năng, hơn 1.000 tiện ích tại Thanh Long Bay thu hút sự quan tâm của giới đầu tư tại Bình     Thuận.\",\"share_url\":\"https://vnexpress.net/trien-vong-dau-tu-do-thi-bien-binh-thuan-4378195.html\",\"thumbnail_url\":\"https://i-kinhdoanh.vnecdn.net/2021/10/30/settop-1635605827-8812-1635605859.jpg\",\"publish_time\":1635728400,\"privacy\":128,\"article_category\":{\"cate_name\":\"Bất động sản\",\"cate_url\":\"/kinh-doanh/bat-dong-san\",\"full_parent\":\"1003159\"},\"off_thumb\":0,\"thumb_list\":{\"thumb_120_72_100_1_crop\":\"https://i1-kinhdoanh.vnecdn.net/2021/10/30/settop-1635605827-8812-1635605859.jpg?w=120\\\\u0026h=72\\\\u0026q=100\\\\u0026dpr=1\\\\u0026fit=crop\\\\u0026s=_po7Ye-KvwEEGFT_UFG0VQ\",\"thumb_120_72_100_2_crop\":\"https://i1-kinhdoanh.vnecdn.net/2021/10/30/settop-1635605827-8812-1635605859.jpg?w=120\\\\u0026h=72\\\\u0026q=100\\\\u0026dpr=2\\\\u0026fit=crop\\\\u0026s=TbraOVUaIUQQnVlk0mkWiQ\"}},{\"article_id\":4379396,\"article_type\":1,\"title\":\"Nha Trang vẫn hấp dẫn giới đầu tư địa ốc\",\"lead\":\"Không chỉ thu hút nhà đầu tư từ các tỉnh thành lớn trên cả nước, Nha Trang còn là đích đến của người dân khu vực Tây Nguyên nhờ đường cao tốc kết nối núi - biển.\",\"share_url\":\"https://vnexpress.net/nha-trang-van-hap-dan-gioi-dau-tu-dia-oc-4379396.html\",\"thumbnail_url\":\"https://i-kinhdoanh.vnecdn.net/2021/10/31/ht2-1635692385-7587-1635693589.png\",\"publish_time\":1635724800,\"privacy\":128,\"article_category\":{\"cate_name\":\"Bất động sản\",\"cate_url\":\"/kinh-doanh/bat-dong-san\",\"full_parent\":\"1003159\"},\"off_thumb\":0,\"thumb_list\":{\"thumb_120_72_100_1_crop\":\"https://i1-kinhdoanh.vnecdn.net/2021/10/31/ht2-1635692385-7587-1635693589.png?w=120\\\\u0026h=72\\\\u0026q=100\\\\u0026dpr=1\\\\u0026fit=crop\\\\u0026s=Uz631gOiGcE7CeNx3QMoBg\",\"thumb_120_72_100_2_crop\":\"https://i1-kinhdoanh.vnecdn.net/2021/10/31/ht2-1635692385-7587-1635693589.png?w=120\\\\u0026h=72\\\\u0026q=100\\\\u0026dpr=2\\\\u0026fit=crop\\\\u0026s=9RkrjpBLzmSYXkJYNOcrvw\"}},{\"article_id\":4379456,\"article_type\":1,\"title\":\"Nhiều người trẻ phía Nam đang đầu tư bất động sản\",\"lead\":\"Giao dịch bất động sản các tỉnh phía Nam đang xuất hiện nhóm khách hàng rất trẻ ở độ tuổi dưới 30 và tăng cao ở nhóm 31-45 tuổi.\",\"share_url\":\"https://vnexpress.net/nhieu-nguoi-tre-phia-nam-dang-dau-tu-bat-dong-san-4379456.html\",\"thumbnail_url\":\"https://i-kinhdoanh.vnecdn.net/2021/10/31/bat-dong-san-khu-tay-sai-gon-1-1501-5319-1635668050.jpg\",\"publish_time\":1635679673,\"privacy\":8390656,\"article_category\":{\"cate_name\":\"Bất động sản\",\"cate_url\":\"/kinh-doanh/bat-dong-san\",\"full_parent\":\"1003159\"},\"off_thumb\":0,\"thumb_list\":{\"thumb_120_72_100_1_crop\":\"https://i1-kinhdoanh.vnecdn.net/2021/10/31/bat-dong-san-khu-tay-sai-gon-1-1501-5319-1635668050.jpg?w=120\\\\u0026h=72\\\\u0026q=100\\\\u0026dpr=1\\\\u0026fit=crop\\\\u0026s=p9gjNSE-_5qn-koorqRveQ\",\"thumb_120_72_100_2_crop\":\"https://i1-kinhdoanh.vnecdn.net/2021/10/31/bat-dong-san-khu-tay-sai-gon-1-1501-5319-1635668050.jpg?w=120\\\\u0026h=72\\\\u0026q=100\\\\u0026dpr=2\\\\u0026fit=crop\\\\u0026s=3hcI-X-Ei1tBcg2knipWGQ\"}},{\"article_id\":4379423,\"article_type\":1,\"title\":\"Giá phòng khách sạn cao cấp lao dốc\",\"lead\":\"Quý III, giá phòng bình quân khách sạn 4-5 sao tiếp đà giảm gần 27% so với cùng kỳ năm 2020 do tác động của đại dịch.\",\"share_url\":\"https://vnexpress.net/gia-phong-khach-san-cao-cap-lao-doc-4379423.html\",\"thumbnail_url\":\"https://i-kinhdoanh.vnecdn.net/2021/10/31/DJI-0429-1552-1635655443.jpg\",\"publish_time\":1635661759,\"privacy\":2048,\"article_category\":{\"cate_name\":\"Bất động sản\",\"cate_url\":\"/kinh-doanh/bat-dong-san\",\"full_parent\":\"1003159\"},\"off_thumb\":0,\"thumb_list\":{\"thumb_120_72_100_1_crop\":\"https://i1-kinhdoanh.vnecdn.net/2021/10/31/DJI-0429-1552-1635655443.jpg?w=120\\\\u0026h=72\\\\u0026q=100\\\\u0026dpr=1\\\\u0026fit=crop\\\\u0026s=iCdLVMbDG3i9s7JY4TFwvQ\",\"thumb_120_72_100_2_crop\":\"https://i1-kinhdoanh.vnecdn.net/2021/10/31/DJI-0429-1552-1635655443.jpg?w=120\\\\u0026h=72\\\\u0026q=100\\\\u0026dpr=2\\\\u0026fit=crop\\\\u0026s=MdsqKeRDUlhQPoIRoM5yGg\"}},{\"article_id\":4379529,\"article_type\":1,\"title\":\"Căn hộ triệu đô hết hàng trong lần mở bán đầu tiên\",\"lead\":\"Loạt dự án siêu sang, cao cấp mở bán trong tháng 10 ghi nhận tốc độ thanh khoản tốt, trong đó có các căn hộ giá 7-8 triệu USD.\",\"share_url\":\"https://vnexpress.net/can-ho-trieu-do-het-hang-trong-lan-mo-ban-dau-tien-4379529.html\",\"thumbnail_url\":\"https://i-kinhdoanh.vnecdn.net/2021/10/31/setop2-1635689544-6126-1635689554.png\",\"publish_time\":1635689770,\"privacy\":2178,\"article_category\":{\"cate_name\":\"Vhome\",\"cate_url\":\"/kinh-doanh/bat-dong-san/vhome\",\"full_parent\":\"1003159,1003181\"},\"off_thumb\":0,\"thumb_list\":{\"thumb_120_72_100_1_crop\":\"https://i1-kinhdoanh.vnecdn.net/2021/10/31/setop2-1635689544-6126-1635689554.png?w=120\\\\u0026h=72\\\\u0026q=100\\\\u0026dpr=1\\\\u0026fit=crop\\\\u0026s=jEp3mfskWQCJPF96r8Mfkg\",\"thumb_120_72_100_2_crop\":\"https://i1-kinhdoanh.vnecdn.net/2021/10/31/setop2-1635689544-6126-1635689554.png?w=120\\\\u0026h=72\\\\u0026q=100\\\\u0026dpr=2\\\\u0026fit=crop\\\\u0026s=Qi2eNUgvyzq_HKFmSbVuPA\"}},{\"article_id\":4379077,\"article_type\":1,\"title\":\"Địa ốc giằng co trước phép thử cuối năm\",\"lead\":\"Giai đoạn cuối năm 2021-2022, bất động sản vẫn ở thế giằng co chờ phục hồi sau thời gian dài ngừng trệ, không có kịch bản tăng trưởng màu hồng.\",\"share_url\":\"https://vnexpress.net/dia-oc-giang-co-truoc-phep-thu-cuoi-nam-4379077.html\",\"thumbnail_url\":\"https://i-kinhdoanh.vnecdn.net/2021/10/30/DJI-0467-5229-1635561850.jpg\",\"publish_time\":1635602400,\"privacy\":8390656,\"article_category\":{\"cate_name\":\"Bất động sản\",\"cate_url\":\"/kinh-doanh/bat-dong-san\",\"full_parent\":\"1003159\"},\"off_thumb\":0,\"thumb_list\":{\"thumb_120_72_100_1_crop\":\"https://i1-kinhdoanh.vnecdn.net/2021/10/30/DJI-0467-5229-1635561850.jpg?w=120\\\\u0026h=72\\\\u0026q=100\\\\u0026dpr=1\\\\u0026fit=crop\\\\u0026s=b4dQXBgAyOTnBU2G49I1Gg\",\"thumb_120_72_100_2_crop\":\"https://i1-kinhdoanh.vnecdn.net/2021/10/30/DJI-0467-5229-1635561850.jpg?w=120\\\\u0026h=72\\\\u0026q=100\\\\u0026dpr=2\\\\u0026fit=crop\\\\u0026s=aRmjpEu9iJt5tKNwEn1uVQ\"}},{\"article_id\":4379158,\"article_type\":1,\"title\":\"Văn phòng giá rẻ rục rịch đón khách trở lại\",\"lead\":\"Vài tuần nay, văn phòng giá từ 15 USD đến 20 USD mỗi m2 một tháng bắt đầu có khách thuê mới sau 4 tháng đóng băng vì phong tỏa.\",\"share_url\":\"https://vnexpress.net/van-phong-gia-re-ruc-rich-don-khach-tro-lai-4379158.html\",\"thumbnail_url\":\"https://i-kinhdoanh.vnecdn.net/2021/10/30/a-tb-office-CBD-HCM-pic-Tran-Q-7928-5097-1635572621.jpg\",\"publish_time\":1635584400,\"privacy\":2048,\"article_category\":{\"cate_name\":\"Bất động sản\",\"cate_url\":\"/kinh-doanh/bat-dong-san\",\"full_parent\":\"1003159\"},\"off_thumb\":0,\"thumb_list\":{\"thumb_120_72_100_1_crop\":\"https://i1-kinhdoanh.vnecdn.net/2021/10/30/a-tb-office-CBD-HCM-pic-Tran-Q-7928-5097-1635572621.jpg?w=120\\\\u0026h=72\\\\u0026q=100\\\\u0026dpr=1\\\\u0026fit=crop\\\\u0026s=6bAaFgOAAhHb3LTT6l3khQ\",\"thumb_120_72_100_2_crop\":\"https://i1-kinhdoanh.vnecdn.net/2021/10/30/a-tb-office-CBD-HCM-pic-Tran-Q-7928-5097-1635572621.jpg?w=120\\\\u0026h=72\\\\u0026q=100\\\\u0026dpr=2\\\\u0026fit=crop\\\\u0026s=jIHS9oSUmXf4SMhBcbja7g\"}},{\"article_id\":4378885,\"article_type\":1,\"title\":\"Sun Riverside Village kiến tạo tâm điểm du lịch mới tại Thanh Hoá\",\"lead\":\"Khu đô thị Sun Riverside Village được kỳ vọng sẽ đóng góp cho sự phát triển của du lịch nghỉ dưỡng tại Sầm Sơn nói riêng và Thanh Hoá nói chung.\",\"share_url\":\"https://vnexpress.net/sun-riverside-village-kien-tao-tam-diem-du-lich-moi-tai-thanh-hoa-4378885.html\",\"thumbnail_url\":\"https://i-kinhdoanh.vnecdn.net/2021/10/30/image-extractword-1-out-4761-1-5880-7391-1635588967.png\",\"publish_time\":1635589800,\"privacy\":128,\"article_category\":{\"cate_name\":\"Bất động sản\",\"cate_url\":\"/kinh-doanh/bat-dong-san\",\"full_parent\":\"1003159\"},\"off_thumb\":0,\"thumb_list\":{\"thumb_120_72_100_1_crop\":\"https://i1-kinhdoanh.vnecdn.net/2021/10/30/image-extractword-1-out-4761-1-5880-7391-1635588967.png?w=120\\\\u0026h=72\\\\u0026q=100\\\\u0026dpr=1\\\\u0026fit=crop\\\\u0026s=WN8GI8GcHlhfL1YUh49RBQ\",\"thumb_120_72_100_2_crop\":\"https://i1-kinhdoanh.vnecdn.net/2021/10/30/image-extractword-1-out-4761-1-5880-7391-1635588967.png?w=120\\\\u0026h=72\\\\u0026q=100\\\\u0026dpr=2\\\\u0026fit=crop\\\\u0026s=T1ZxUjEAsmaN7umDarGhlQ\"}},{\"article_id\":4378882,\"article_type\":1,\"title\":\"Sức hấp dẫn của căn hộ bên vịnh du thuyền\",\"lead\":\"Căn hộ Sun Marina Town - The Platinum hướng tới những chủ nhân tinh hoa với trải nghiệm sống thượng lưu bên vịnh du thuyền và những tiện ích hiện đại.\",\"share_url\":\"https://vnexpress.net/suc-hap-dan-cua-can-ho-ben-vinh-du-thuyen-4378882.html\",\"thumbnail_url\":\"https://i-kinhdoanh.vnecdn.net/2021/10/30/Image-199611910-ExtractWord-0-1742-3868-1635567737.png\",\"publish_time\":1635568200,\"privacy\":128,\"article_category\":{\"cate_name\":\"Bất động sản\",\"cate_url\":\"/kinh-doanh/bat-dong-san\",\"full_parent\":\"1003159\"},\"off_thumb\":0,\"thumb_list\":{\"thumb_120_72_100_1_crop\":\"https://i1-kinhdoanh.vnecdn.net/2021/10/30/Image-199611910-ExtractWord-0-1742-3868-1635567737.png?w=120\\\\u0026h=72\\\\u0026q=100\\\\u0026dpr=1\\\\u0026fit=crop\\\\u0026s=sfkwmRx5Z2ZBApHdeMfmIg\",\"thumb_120_72_100_2_crop\":\"https://i1-kinhdoanh.vnecdn.net/2021/10/30/Image-199611910-ExtractWord-0-1742-3868-1635567737.png?w=120\\\\u0026h=72\\\\u0026q=100\\\\u0026dpr=2\\\\u0026fit=crop\\\\u0026s=VMr6lgmI5x0-kRMqN5iElQ\"}},{\"article_id\":4378893,\"article_type\":1,\"title\":\"Flamingo đánh thức tiềm năng du lịch biển Hải Tiến\",\"lead\":\"Flamingo vừa khởi công dự án Flamingo Hải Tiến nằm ở biển Linh Trường, Hải Tiến, Hoằng Hoá với kỳ vọng thay đổi diện mạo du lịch biển Hải Tiến.\",\"share_url\":\"https://vnexpress.net/flamingo-danh-thuc-tiem-nang-du-lich-bien-hai-tien-4378893.html\",\"thumbnail_url\":\"https://i-kinhdoanh.vnecdn.net/2021/10/30/lfm-1635555291-1635555310-8190-1635555359.png\",\"publish_time\":1635559200,\"privacy\":128,\"article_category\":{\"cate_name\":\"Bất động sản\",\"cate_url\":\"/kinh-doanh/bat-dong-san\",\"full_parent\":\"1003159\"},\"off_thumb\":0,\"thumb_list\":{\"thumb_120_72_100_1_crop\":\"https://i1-kinhdoanh.vnecdn.net/2021/10/30/lfm-1635555291-1635555310-8190-1635555359.png?w=120\\\\u0026h=72\\\\u0026q=100\\\\u0026dpr=1\\\\u0026fit=crop\\\\u0026s=WnaoyLhlFVAuQGopqtNJlg\",\"thumb_120_72_100_2_crop\":\"https://i1-kinhdoanh.vnecdn.net/2021/10/30/lfm-1635555291-1635555310-8190-1635555359.png?w=120\\\\u0026h=72\\\\u0026q=100\\\\u0026dpr=2\\\\u0026fit=crop\\\\u0026s=WwRpBfGRacCXpk6GUIxj4Q\"}},{\"article_id\":4378389,\"article_type\":1,\"title\":\"The 9 Stellars theo mô hình tiểu đô thị xanh thông minh\",\"lead\":\"Dự án The 9 Stellars tích hợp giải pháp công nghệ IoT, tiếp cận xu hướng sống hiện đại, đa tiện ích cho các cư dân thế hệ mới, trong môi trường sống trong lành.\",\"share_url\":\"https://vnexpress.net/the-9-stellars-theo-mo-hinh-tieu-do-thi-xanh-thong-minh-4378389.html\",\"thumbnail_url\":\"https://i-kinhdoanh.vnecdn.net/2021/10/29/Image-394154703-ExtractWord-0-3399-6958-1635487716.png\",\"publish_time\":1635559200,\"privacy\":128,\"article_category\":{\"cate_name\":\"Bất động sản\",\"cate_url\":\"/kinh-doanh/bat-dong-san\",\"full_parent\":\"1003159\"},\"off_thumb\":0,\"thumb_list\":{\"thumb_120_72_100_1_crop\":\"https://i1-kinhdoanh.vnecdn.net/2021/10/29/Image-394154703-ExtractWord-0-3399-6958-1635487716.png?w=120\\\\u0026h=72\\\\u0026q=100\\\\u0026dpr=1\\\\u0026fit=crop\\\\u0026s=Nn7JeRgE-Hy0-ZGLr9EFTw\",\"thumb_120_72_100_2_crop\":\"https://i1-kinhdoanh.vnecdn.net/2021/10/29/Image-394154703-ExtractWord-0-3399-6958-1635487716.png?w=120\\\\u0026h=72\\\\u0026q=100\\\\u0026dpr=2\\\\u0026fit=crop\\\\u0026s=AEpw6IQBeq_Nv72H42hh2Q\"}},{\"article_id\":4377037,\"article_type\":1,\"title\":\"Vinhomes Ocean Park đón xu hướng dịch chuyển về phía Đông Thủ đô\",\"lead\":\"Sự phát triển mạnh mẽ về hạ tầng giao thông góp phần giúp khu vực phía Đông Hà Nội thu hút một bộ phận lớn cư dân đến sinh sống.\",\"share_url\":\"https://vnexpress.net/vinhomes-ocean-park-don-xu-huong-dich-chuyen-ve-phia-dong-thu-do-4377037.html\",\"thumbnail_url\":\"https://i-kinhdoanh.vnecdn.net/2021/10/26/Image-ExtractWord-0-Out-6195-1635222158.png\",\"publish_time\":1635555600,\"privacy\":128,\"article_category\":{\"cate_name\":\"Bất động sản\",\"cate_url\":\"/kinh-doanh/bat-dong-san\",\"full_parent\":\"1003159\"},\"off_thumb\":0,\"thumb_list\":{\"thumb_120_72_100_1_crop\":\"https://i1-kinhdoanh.vnecdn.net/2021/10/26/Image-ExtractWord-0-Out-6195-1635222158.png?w=120\\\\u0026h=72\\\\u0026q=100\\\\u0026dpr=1\\\\u0026fit=crop\\\\u0026s=Z5go-yXpwcTGibRCJ11rXg\",\"thumb_120_72_100_2_crop\":\"https://i1-kinhdoanh.vnecdn.net/2021/10/26/Image-ExtractWord-0-Out-6195-1635222158.png?w=120\\\\u0026h=72\\\\u0026q=100\\\\u0026dpr=2\\\\u0026fit=crop\\\\u0026s=ZxAAEnJSr1wMdIneLt_fow\"}},{\"article_id\":4378673,\"article_type\":1,\"title\":\"Ba đòn bẩy giúp rã đông bất động sản\",\"lead\":\"Cú hích đầu tư công, khơi thông pháp lý, hỗ trợ nhà giá rẻ hứa hẹn giúp thị trường địa ốc hồi phục sau đợt đóng băng 4 tháng qua.\",\"share_url\":\"https://vnexpress.net/ba-don-bay-giup-ra-dong-bat-dong-san-4378673.html\",\"thumbnail_url\":\"https://i-kinhdoanh.vnecdn.net/2021/10/29/1quyn1716-jpeg-1635495984-5158-1635496048.jpg\",\"publish_time\":1635484516,\"privacy\":2048,\"article_category\":{\"cate_name\":\"Bất động sản\",\"cate_url\":\"/kinh-doanh/bat-dong-san\",\"full_parent\":\"1003159\"},\"off_thumb\":0,\"thumb_list\":{\"thumb_120_72_100_1_crop\":\"https://i1-kinhdoanh.vnecdn.net/2021/10/29/1quyn1716-jpeg-1635495984-5158-1635496048.jpg?w=120\\\\u0026h=72\\\\u0026q=100\\\\u0026dpr=1\\\\u0026fit=crop\\\\u0026s=oPo30GQf8JA8m7_AXJ46RQ\",\"thumb_120_72_100_2_crop\":\"https://i1-kinhdoanh.vnecdn.net/2021/10/29/1quyn1716-jpeg-1635495984-5158-1635496048.jpg?w=120\\\\u0026h=72\\\\u0026q=100\\\\u0026dpr=2\\\\u0026fit=crop\\\\u0026s=tBcAGqCEuXgC8ij0YVK8Og\"}},{\"article_id\":4378681,\"article_type\":1,\"title\":\"Startup định giá bất động sản gọi vốn thành công 1,3 triệu USD\",\"lead\":\"Citics, nền tảng công nghệ bất động sản có 3 \\\\\"tài năng trẻ dưới 30 tuổi\\\\\" do Forbes bình chọn, vừa gọi vốn thành công 1,3 triệu USD.\",\"share_url\":\"https://vnexpress.net/startup-dinh-gia-bat-dong-san-goi-von-thanh-cong-1-3-trieu-usd-4378681.html\",\"thumbnail_url\":\"https://i-kinhdoanh.vnecdn.net/2021/10/29/unnamed-1635481128-3147-1635481178.jpg\",\"publish_time\":1635489700,\"privacy\":2048,\"article_category\":{\"cate_name\":\"Bất động sản\",\"cate_url\":\"/kinh-doanh/bat-dong-san\",\"full_parent\":\"1003159\"},\"off_thumb\":0,\"thumb_list\":{\"thumb_120_72_100_1_crop\":\"https://i1-kinhdoanh.vnecdn.net/2021/10/29/unnamed-1635481128-3147-1635481178.jpg?w=120\\\\u0026h=72\\\\u0026q=100\\\\u0026dpr=1\\\\u0026fit=crop\\\\u0026s=fGwcL_o1LqcGPiLBBsKQQQ\",\"thumb_120_72_100_2_crop\":\"https://i1-kinhdoanh.vnecdn.net/2021/10/29/unnamed-1635481128-3147-1635481178.jpg?w=120\\\\u0026h=72\\\\u0026q=100\\\\u0026dpr=2\\\\u0026fit=crop\\\\u0026s=IclZnrcwqEr4gbnQUcZ9qQ\"}},{\"article_id\":4375432,\"article_type\":1,\"title\":\"Lợi thế pháp lý của nhà phố CIC-Luxury\",\"lead\":\"105 căn shophouse thuộc dự án CIC-Luxury, TP Lào Cai thu hút các nhà đầu tư bởi yếu tố: vị trí, tiện ích, thương hiệu và tính pháp lý.\",\"share_url\":\"https://vnexpress.net/loi-the-phap-ly-cua-nha-pho-cic-luxury-4375432.html\",\"thumbnail_url\":\"https://i-kinhdoanh.vnecdn.net/2021/10/29/image001-1635489634-1635489645-2414-1635489678.jpg\",\"publish_time\":1635494400,\"privacy\":128,\"article_category\":{\"cate_name\":\"Bất động sản\",\"cate_url\":\"/kinh-doanh/bat-dong-san\",\"full_parent\":\"1003159\"},\"off_thumb\":0,\"thumb_list\":{\"thumb_120_72_100_1_crop\":\"https://i1-kinhdoanh.vnecdn.net/2021/10/29/image001-1635489634-1635489645-2414-1635489678.jpg?w=120\\\\u0026h=72\\\\u0026q=100\\\\u0026dpr=1\\\\u0026fit=crop\\\\u0026s=YpLQ_kJfO8SKPiQUvWpOzw\",\"thumb_120_72_100_2_crop\":\"https://i1-kinhdoanh.vnecdn.net/2021/10/29/image001-1635489634-1635489645-2414-1635489678.jpg?w=120\\\\u0026h=72\\\\u0026q=100\\\\u0026dpr=2\\\\u0026fit=crop\\\\u0026s=aWsJPtll8Nz5z5WuVEjc0w\"}},{\"article_id\":4378390,\"article_type\":1,\"title\":\"Masterise Homes ra mắt đại lộ mua sắm, giải trí phía Đông Hà Nội\",\"lead\":\"Tọa lạc giữa trung tâm dự án căn hộ Masteri Waterfront, Malibu Walk sở hữu hệ tiện ích độc đáo cùng chuỗi các nhà hàng, khu shophouse cao cấp…\",\"share_url\":\"https://vnexpress.net/masterise-homes-ra-mat-dai-lo-mua-sam-giai-tri-phia-dong-ha-noi-4378390.html\",\"thumbnail_url\":\"https://i-kinhdoanh.vnecdn.net/2021/10/29/mth-masterise-malibu-view-09-a-1909-9039-1635488668.jpg\",\"publish_time\":1635487200,\"privacy\":128,\"article_category\":{\"cate_name\":\"Bất động sản\",\"cate_url\":\"/kinh-doanh/bat-dong-san\",\"full_parent\":\"1003159\"},\"off_thumb\":0,\"thumb_list\":{\"thumb_120_72_100_1_crop\":\"https://i1-kinhdoanh.vnecdn.net/2021/10/29/mth-masterise-malibu-view-09-a-1909-9039-1635488668.jpg?w=120\\\\u0026h=72\\\\u0026q=100\\\\u0026dpr=1\\\\u0026fit=crop\\\\u0026s=o4MjQAiLkUJuHGlQQCXC9A\",\"thumb_120_72_100_2_crop\":\"https://i1-kinhdoanh.vnecdn.net/2021/10/29/mth-masterise-malibu-view-09-a-1909-9039-1635488668.jpg?w=120\\\\u0026h=72\\\\u0026q=100\\\\u0026dpr=2\\\\u0026fit=crop\\\\u0026s=FhUqSaIuwgKz04JT3KpOSg\"}},{\"article_id\":4378334,\"article_type\":1,\"title\":\"Người Việt chi hàng chục tỷ đồng định cư Ireland\",\"lead\":\"Dự án viện dưỡng lão Cookstown của Bartra đã huy động 6 triệu euro trong hai tuần qua chương trình đầu tư định cư Ireland IIP, trong đó không ít nhà đầu tư Việt Nam.\",\"share_url\":\"https://vnexpress.net/nguoi-viet-chi-hang-chuc-ty-dong-dinh-cu-ireland-4378334.html\",\"thumbnail_url\":\"https://i-kinhdoanh.vnecdn.net/2021/10/28/Image-ExtractWord-0-Out-7898-1635414327.png\",\"publish_time\":1635483600,\"privacy\":128,\"article_category\":{\"cate_name\":\"Bất động sản\",\"cate_url\":\"/kinh-doanh/bat-dong-san\",\"full_parent\":\"1003159\"},\"off_thumb\":0,\"thumb_list\":{\"thumb_120_72_100_1_crop\":\"https://i1-kinhdoanh.vnecdn.net/2021/10/28/Image-ExtractWord-0-Out-7898-1635414327.png?w=120\\\\u0026h=72\\\\u0026q=100\\\\u0026dpr=1\\\\u0026fit=crop\\\\u0026s=5Q1HDXB18PCn9FXG0miNaQ\",\"thumb_120_72_100_2_crop\":\"https://i1-kinhdoanh.vnecdn.net/2021/10/28/Image-ExtractWord-0-Out-7898-1635414327.png?w=120\\\\u0026h=72\\\\u0026q=100\\\\u0026dpr=2\\\\u0026fit=crop\\\\u0026s=WgH5EUaBcW5JyHAEGYiWMw\"}}]}}}'"
      ]
     },
     "execution_count": 1,
     "metadata": {},
     "output_type": "execute_result"
    }
   ],
   "source": [
    "import requests\n",
    "\n",
    "limit=20\n",
    "page=1\n",
    "\n",
    "url = \"https://gw.vnexpress.net/ar/get_rule_2?category_id=1003181&limit={}&page={}&data_select=title,lead,privacy,thumbnail_url,share_url,article_type,article_category,publish_time,author_id&thumb_size=120x72&thumb_quality=100&thumb_dpr=1,2&thumb_fit=crop\".format(\n",
    "    limit, page)\n",
    "\n",
    "payload = {}\n",
    "headers = {\n",
    "    'Host': 'gw.vnexpress.net',\n",
    "    'User-Agent': 'Mozilla/5.0 (Windows NT 10.0; Win64; x64) AppleWebKit/537.36 (KHTML, like Gecko) Chrome/91.0.4472.114 Safari/537.36',\n",
    "    'Accept': '*/*',\n",
    "    'Origin': 'https://vnexpress.net',\n",
    "    'Sec-Fetch-Site': 'same-site',\n",
    "    'Sec-Fetch-Mode': 'cors',\n",
    "    'Sec-Fetch-Dest': 'empty',\n",
    "    'Accept-Encoding': 'gzip, deflate',\n",
    "    'Accept-Language': 'en-US,en;q=0.9',\n",
    "    'Connection': 'close'\n",
    "}\n",
    "\n",
    "response = requests.request(\"GET\", url, headers=headers, data=payload, verify=False)\n",
    "\n",
    "raw_data = response.text\n",
    "raw_data"
   ]
  },
  {
   "cell_type": "code",
   "execution_count": 13,
   "id": "0cffa864",
   "metadata": {},
   "outputs": [
    {
     "data": {
      "text/plain": [
       "{'code': 200,\n",
       " 'data': {'1003181': {'data': [{'article_id': 4379543,\n",
       "     'article_type': 1,\n",
       "     'title': 'Sun Property nâng tầm giá trị sống tại dự án Sun Tropical Village',\n",
       "     'lead': 'Theo chủ đầu tư, cư dân \"ngôi làng nhiệt đới\" Sun Tropical Village được hưởng dịch vụ 5 sao tại gia, cùng chuỗi tiện ích chăm sóc sức khỏe đẳng cấp.',\n",
       "     'share_url': 'https://vnexpress.net/sun-property-nang-tam-gia-tri-song-tai-du-an-sun-tropical-village-4379543.html',\n",
       "     'thumbnail_url': 'https://i-kinhdoanh.vnecdn.net/2021/10/31/anh-2-1635694049-1222-1635694280.jpg',\n",
       "     'publish_time': 1635732000,\n",
       "     'privacy': 128,\n",
       "     'article_category': {'cate_name': 'Bất động sản',\n",
       "      'cate_url': '/kinh-doanh/bat-dong-san',\n",
       "      'full_parent': '1003159'},\n",
       "     'off_thumb': 0,\n",
       "     'thumb_list': {'thumb_120_72_100_1_crop': 'https://i1-kinhdoanh.vnecdn.net/2021/10/31/anh-2-1635694049-1222-1635694280.jpg?w=120&h=72&q=100&dpr=1&fit=crop&s=a4t7Ym_jcc6xMTHqs2f6SA',\n",
       "      'thumb_120_72_100_2_crop': 'https://i1-kinhdoanh.vnecdn.net/2021/10/31/anh-2-1635694049-1222-1635694280.jpg?w=120&h=72&q=100&dpr=2&fit=crop&s=s1J7P4SuIYC0_r0Sf6Rgww'}},\n",
       "    {'article_id': 4378822,\n",
       "     'article_type': 1,\n",
       "     'title': 'Lợi thế đầu tư tại Flamingo Cát Bà',\n",
       "     'lead': 'Thiết kế theo lối kiến trúc rừng xanh trên cao, đáp ứng nhu cầu sinh lời lâu dài... là những điểm nhấn thu hút nhà đầu tư tại Flamingo Cát Bà.',\n",
       "     'share_url': 'https://vnexpress.net/loi-the-dau-tu-tai-flamingo-cat-ba-4378822.html',\n",
       "     'thumbnail_url': 'https://i-kinhdoanh.vnecdn.net/2021/10/29/image-944909726-extractword-0-9931-3378-1635503862.png',\n",
       "     'publish_time': 1635732000,\n",
       "     'privacy': 128,\n",
       "     'article_category': {'cate_name': 'Bất động sản',\n",
       "      'cate_url': '/kinh-doanh/bat-dong-san',\n",
       "      'full_parent': '1003159'},\n",
       "     'off_thumb': 0,\n",
       "     'thumb_list': {'thumb_120_72_100_1_crop': 'https://i1-kinhdoanh.vnecdn.net/2021/10/29/image-944909726-extractword-0-9931-3378-1635503862.png?w=120&h=72&q=100&dpr=1&fit=crop&s=V5pue17dHk2uNqFN8w4ZMg',\n",
       "      'thumb_120_72_100_2_crop': 'https://i1-kinhdoanh.vnecdn.net/2021/10/29/image-944909726-extractword-0-9931-3378-1635503862.png?w=120&h=72&q=100&dpr=2&fit=crop&s=5yfV6o3nRN18liWPpEa_rA'}},\n",
       "    {'article_id': 4378302,\n",
       "     'article_type': 1,\n",
       "     'title': 'Chủ đầu tư chi hàng triệu USD cho tiện ích chăm sóc sức khỏe',\n",
       "     'lead': 'Tham gia đường đua bất động sản cuối năm, các \"ông lớn\" địa ốc ra mắt các sản phẩm gắn liền với loạt tiện ích chăm sóc sức khỏe - xu hướng đang lên ngôi hậu giãn cách.',\n",
       "     'share_url': 'https://vnexpress.net/chu-dau-tu-chi-hang-trieu-usd-cho-tien-ich-cham-soc-suc-khoe-4378302.html',\n",
       "     'thumbnail_url': 'https://i-kinhdoanh.vnecdn.net/2021/10/31/image004-1635655247-5368-1635655298.jpg',\n",
       "     'publish_time': 1635728400,\n",
       "     'privacy': 128,\n",
       "     'article_category': {'cate_name': 'Bất động sản',\n",
       "      'cate_url': '/kinh-doanh/bat-dong-san',\n",
       "      'full_parent': '1003159'},\n",
       "     'off_thumb': 0,\n",
       "     'thumb_list': {'thumb_120_72_100_1_crop': 'https://i1-kinhdoanh.vnecdn.net/2021/10/31/image004-1635655247-5368-1635655298.jpg?w=120&h=72&q=100&dpr=1&fit=crop&s=eISVFWhAqIcVjzfcU5c34Q',\n",
       "      'thumb_120_72_100_2_crop': 'https://i1-kinhdoanh.vnecdn.net/2021/10/31/image004-1635655247-5368-1635655298.jpg?w=120&h=72&q=100&dpr=2&fit=crop&s=w31q8RMyuHB7Vz2pLcyV9Q'}},\n",
       "    {'article_id': 4378195,\n",
       "     'article_type': 7,\n",
       "     'title': 'Triển vọng đầu tư đô thị biển Bình Thuận',\n",
       "     'lead': 'Tổ hợp đô thị biển 90ha, 12 phân khu chức năng, hơn 1.000 tiện ích tại Thanh Long Bay thu hút sự quan tâm của giới đầu tư tại Bình     Thuận.',\n",
       "     'share_url': 'https://vnexpress.net/trien-vong-dau-tu-do-thi-bien-binh-thuan-4378195.html',\n",
       "     'thumbnail_url': 'https://i-kinhdoanh.vnecdn.net/2021/10/30/settop-1635605827-8812-1635605859.jpg',\n",
       "     'publish_time': 1635728400,\n",
       "     'privacy': 128,\n",
       "     'article_category': {'cate_name': 'Bất động sản',\n",
       "      'cate_url': '/kinh-doanh/bat-dong-san',\n",
       "      'full_parent': '1003159'},\n",
       "     'off_thumb': 0,\n",
       "     'thumb_list': {'thumb_120_72_100_1_crop': 'https://i1-kinhdoanh.vnecdn.net/2021/10/30/settop-1635605827-8812-1635605859.jpg?w=120&h=72&q=100&dpr=1&fit=crop&s=_po7Ye-KvwEEGFT_UFG0VQ',\n",
       "      'thumb_120_72_100_2_crop': 'https://i1-kinhdoanh.vnecdn.net/2021/10/30/settop-1635605827-8812-1635605859.jpg?w=120&h=72&q=100&dpr=2&fit=crop&s=TbraOVUaIUQQnVlk0mkWiQ'}},\n",
       "    {'article_id': 4379396,\n",
       "     'article_type': 1,\n",
       "     'title': 'Nha Trang vẫn hấp dẫn giới đầu tư địa ốc',\n",
       "     'lead': 'Không chỉ thu hút nhà đầu tư từ các tỉnh thành lớn trên cả nước, Nha Trang còn là đích đến của người dân khu vực Tây Nguyên nhờ đường cao tốc kết nối núi - biển.',\n",
       "     'share_url': 'https://vnexpress.net/nha-trang-van-hap-dan-gioi-dau-tu-dia-oc-4379396.html',\n",
       "     'thumbnail_url': 'https://i-kinhdoanh.vnecdn.net/2021/10/31/ht2-1635692385-7587-1635693589.png',\n",
       "     'publish_time': 1635724800,\n",
       "     'privacy': 128,\n",
       "     'article_category': {'cate_name': 'Bất động sản',\n",
       "      'cate_url': '/kinh-doanh/bat-dong-san',\n",
       "      'full_parent': '1003159'},\n",
       "     'off_thumb': 0,\n",
       "     'thumb_list': {'thumb_120_72_100_1_crop': 'https://i1-kinhdoanh.vnecdn.net/2021/10/31/ht2-1635692385-7587-1635693589.png?w=120&h=72&q=100&dpr=1&fit=crop&s=Uz631gOiGcE7CeNx3QMoBg',\n",
       "      'thumb_120_72_100_2_crop': 'https://i1-kinhdoanh.vnecdn.net/2021/10/31/ht2-1635692385-7587-1635693589.png?w=120&h=72&q=100&dpr=2&fit=crop&s=9RkrjpBLzmSYXkJYNOcrvw'}},\n",
       "    {'article_id': 4379456,\n",
       "     'article_type': 1,\n",
       "     'title': 'Nhiều người trẻ phía Nam đang đầu tư bất động sản',\n",
       "     'lead': 'Giao dịch bất động sản các tỉnh phía Nam đang xuất hiện nhóm khách hàng rất trẻ ở độ tuổi dưới 30 và tăng cao ở nhóm 31-45 tuổi.',\n",
       "     'share_url': 'https://vnexpress.net/nhieu-nguoi-tre-phia-nam-dang-dau-tu-bat-dong-san-4379456.html',\n",
       "     'thumbnail_url': 'https://i-kinhdoanh.vnecdn.net/2021/10/31/bat-dong-san-khu-tay-sai-gon-1-1501-5319-1635668050.jpg',\n",
       "     'publish_time': 1635679673,\n",
       "     'privacy': 8390656,\n",
       "     'article_category': {'cate_name': 'Bất động sản',\n",
       "      'cate_url': '/kinh-doanh/bat-dong-san',\n",
       "      'full_parent': '1003159'},\n",
       "     'off_thumb': 0,\n",
       "     'thumb_list': {'thumb_120_72_100_1_crop': 'https://i1-kinhdoanh.vnecdn.net/2021/10/31/bat-dong-san-khu-tay-sai-gon-1-1501-5319-1635668050.jpg?w=120&h=72&q=100&dpr=1&fit=crop&s=p9gjNSE-_5qn-koorqRveQ',\n",
       "      'thumb_120_72_100_2_crop': 'https://i1-kinhdoanh.vnecdn.net/2021/10/31/bat-dong-san-khu-tay-sai-gon-1-1501-5319-1635668050.jpg?w=120&h=72&q=100&dpr=2&fit=crop&s=3hcI-X-Ei1tBcg2knipWGQ'}},\n",
       "    {'article_id': 4379423,\n",
       "     'article_type': 1,\n",
       "     'title': 'Giá phòng khách sạn cao cấp lao dốc',\n",
       "     'lead': 'Quý III, giá phòng bình quân khách sạn 4-5 sao tiếp đà giảm gần 27% so với cùng kỳ năm 2020 do tác động của đại dịch.',\n",
       "     'share_url': 'https://vnexpress.net/gia-phong-khach-san-cao-cap-lao-doc-4379423.html',\n",
       "     'thumbnail_url': 'https://i-kinhdoanh.vnecdn.net/2021/10/31/DJI-0429-1552-1635655443.jpg',\n",
       "     'publish_time': 1635661759,\n",
       "     'privacy': 2048,\n",
       "     'article_category': {'cate_name': 'Bất động sản',\n",
       "      'cate_url': '/kinh-doanh/bat-dong-san',\n",
       "      'full_parent': '1003159'},\n",
       "     'off_thumb': 0,\n",
       "     'thumb_list': {'thumb_120_72_100_1_crop': 'https://i1-kinhdoanh.vnecdn.net/2021/10/31/DJI-0429-1552-1635655443.jpg?w=120&h=72&q=100&dpr=1&fit=crop&s=iCdLVMbDG3i9s7JY4TFwvQ',\n",
       "      'thumb_120_72_100_2_crop': 'https://i1-kinhdoanh.vnecdn.net/2021/10/31/DJI-0429-1552-1635655443.jpg?w=120&h=72&q=100&dpr=2&fit=crop&s=MdsqKeRDUlhQPoIRoM5yGg'}},\n",
       "    {'article_id': 4379529,\n",
       "     'article_type': 1,\n",
       "     'title': 'Căn hộ triệu đô hết hàng trong lần mở bán đầu tiên',\n",
       "     'lead': 'Loạt dự án siêu sang, cao cấp mở bán trong tháng 10 ghi nhận tốc độ thanh khoản tốt, trong đó có các căn hộ giá 7-8 triệu USD.',\n",
       "     'share_url': 'https://vnexpress.net/can-ho-trieu-do-het-hang-trong-lan-mo-ban-dau-tien-4379529.html',\n",
       "     'thumbnail_url': 'https://i-kinhdoanh.vnecdn.net/2021/10/31/setop2-1635689544-6126-1635689554.png',\n",
       "     'publish_time': 1635689770,\n",
       "     'privacy': 2178,\n",
       "     'article_category': {'cate_name': 'Vhome',\n",
       "      'cate_url': '/kinh-doanh/bat-dong-san/vhome',\n",
       "      'full_parent': '1003159,1003181'},\n",
       "     'off_thumb': 0,\n",
       "     'thumb_list': {'thumb_120_72_100_1_crop': 'https://i1-kinhdoanh.vnecdn.net/2021/10/31/setop2-1635689544-6126-1635689554.png?w=120&h=72&q=100&dpr=1&fit=crop&s=jEp3mfskWQCJPF96r8Mfkg',\n",
       "      'thumb_120_72_100_2_crop': 'https://i1-kinhdoanh.vnecdn.net/2021/10/31/setop2-1635689544-6126-1635689554.png?w=120&h=72&q=100&dpr=2&fit=crop&s=Qi2eNUgvyzq_HKFmSbVuPA'}},\n",
       "    {'article_id': 4379077,\n",
       "     'article_type': 1,\n",
       "     'title': 'Địa ốc giằng co trước phép thử cuối năm',\n",
       "     'lead': 'Giai đoạn cuối năm 2021-2022, bất động sản vẫn ở thế giằng co chờ phục hồi sau thời gian dài ngừng trệ, không có kịch bản tăng trưởng màu hồng.',\n",
       "     'share_url': 'https://vnexpress.net/dia-oc-giang-co-truoc-phep-thu-cuoi-nam-4379077.html',\n",
       "     'thumbnail_url': 'https://i-kinhdoanh.vnecdn.net/2021/10/30/DJI-0467-5229-1635561850.jpg',\n",
       "     'publish_time': 1635602400,\n",
       "     'privacy': 8390656,\n",
       "     'article_category': {'cate_name': 'Bất động sản',\n",
       "      'cate_url': '/kinh-doanh/bat-dong-san',\n",
       "      'full_parent': '1003159'},\n",
       "     'off_thumb': 0,\n",
       "     'thumb_list': {'thumb_120_72_100_1_crop': 'https://i1-kinhdoanh.vnecdn.net/2021/10/30/DJI-0467-5229-1635561850.jpg?w=120&h=72&q=100&dpr=1&fit=crop&s=b4dQXBgAyOTnBU2G49I1Gg',\n",
       "      'thumb_120_72_100_2_crop': 'https://i1-kinhdoanh.vnecdn.net/2021/10/30/DJI-0467-5229-1635561850.jpg?w=120&h=72&q=100&dpr=2&fit=crop&s=aRmjpEu9iJt5tKNwEn1uVQ'}},\n",
       "    {'article_id': 4379158,\n",
       "     'article_type': 1,\n",
       "     'title': 'Văn phòng giá rẻ rục rịch đón khách trở lại',\n",
       "     'lead': 'Vài tuần nay, văn phòng giá từ 15 USD đến 20 USD mỗi m2 một tháng bắt đầu có khách thuê mới sau 4 tháng đóng băng vì phong tỏa.',\n",
       "     'share_url': 'https://vnexpress.net/van-phong-gia-re-ruc-rich-don-khach-tro-lai-4379158.html',\n",
       "     'thumbnail_url': 'https://i-kinhdoanh.vnecdn.net/2021/10/30/a-tb-office-CBD-HCM-pic-Tran-Q-7928-5097-1635572621.jpg',\n",
       "     'publish_time': 1635584400,\n",
       "     'privacy': 2048,\n",
       "     'article_category': {'cate_name': 'Bất động sản',\n",
       "      'cate_url': '/kinh-doanh/bat-dong-san',\n",
       "      'full_parent': '1003159'},\n",
       "     'off_thumb': 0,\n",
       "     'thumb_list': {'thumb_120_72_100_1_crop': 'https://i1-kinhdoanh.vnecdn.net/2021/10/30/a-tb-office-CBD-HCM-pic-Tran-Q-7928-5097-1635572621.jpg?w=120&h=72&q=100&dpr=1&fit=crop&s=6bAaFgOAAhHb3LTT6l3khQ',\n",
       "      'thumb_120_72_100_2_crop': 'https://i1-kinhdoanh.vnecdn.net/2021/10/30/a-tb-office-CBD-HCM-pic-Tran-Q-7928-5097-1635572621.jpg?w=120&h=72&q=100&dpr=2&fit=crop&s=jIHS9oSUmXf4SMhBcbja7g'}},\n",
       "    {'article_id': 4378885,\n",
       "     'article_type': 1,\n",
       "     'title': 'Sun Riverside Village kiến tạo tâm điểm du lịch mới tại Thanh Hoá',\n",
       "     'lead': 'Khu đô thị Sun Riverside Village được kỳ vọng sẽ đóng góp cho sự phát triển của du lịch nghỉ dưỡng tại Sầm Sơn nói riêng và Thanh Hoá nói chung.',\n",
       "     'share_url': 'https://vnexpress.net/sun-riverside-village-kien-tao-tam-diem-du-lich-moi-tai-thanh-hoa-4378885.html',\n",
       "     'thumbnail_url': 'https://i-kinhdoanh.vnecdn.net/2021/10/30/image-extractword-1-out-4761-1-5880-7391-1635588967.png',\n",
       "     'publish_time': 1635589800,\n",
       "     'privacy': 128,\n",
       "     'article_category': {'cate_name': 'Bất động sản',\n",
       "      'cate_url': '/kinh-doanh/bat-dong-san',\n",
       "      'full_parent': '1003159'},\n",
       "     'off_thumb': 0,\n",
       "     'thumb_list': {'thumb_120_72_100_1_crop': 'https://i1-kinhdoanh.vnecdn.net/2021/10/30/image-extractword-1-out-4761-1-5880-7391-1635588967.png?w=120&h=72&q=100&dpr=1&fit=crop&s=WN8GI8GcHlhfL1YUh49RBQ',\n",
       "      'thumb_120_72_100_2_crop': 'https://i1-kinhdoanh.vnecdn.net/2021/10/30/image-extractword-1-out-4761-1-5880-7391-1635588967.png?w=120&h=72&q=100&dpr=2&fit=crop&s=T1ZxUjEAsmaN7umDarGhlQ'}},\n",
       "    {'article_id': 4378882,\n",
       "     'article_type': 1,\n",
       "     'title': 'Sức hấp dẫn của căn hộ bên vịnh du thuyền',\n",
       "     'lead': 'Căn hộ Sun Marina Town - The Platinum hướng tới những chủ nhân tinh hoa với trải nghiệm sống thượng lưu bên vịnh du thuyền và những tiện ích hiện đại.',\n",
       "     'share_url': 'https://vnexpress.net/suc-hap-dan-cua-can-ho-ben-vinh-du-thuyen-4378882.html',\n",
       "     'thumbnail_url': 'https://i-kinhdoanh.vnecdn.net/2021/10/30/Image-199611910-ExtractWord-0-1742-3868-1635567737.png',\n",
       "     'publish_time': 1635568200,\n",
       "     'privacy': 128,\n",
       "     'article_category': {'cate_name': 'Bất động sản',\n",
       "      'cate_url': '/kinh-doanh/bat-dong-san',\n",
       "      'full_parent': '1003159'},\n",
       "     'off_thumb': 0,\n",
       "     'thumb_list': {'thumb_120_72_100_1_crop': 'https://i1-kinhdoanh.vnecdn.net/2021/10/30/Image-199611910-ExtractWord-0-1742-3868-1635567737.png?w=120&h=72&q=100&dpr=1&fit=crop&s=sfkwmRx5Z2ZBApHdeMfmIg',\n",
       "      'thumb_120_72_100_2_crop': 'https://i1-kinhdoanh.vnecdn.net/2021/10/30/Image-199611910-ExtractWord-0-1742-3868-1635567737.png?w=120&h=72&q=100&dpr=2&fit=crop&s=VMr6lgmI5x0-kRMqN5iElQ'}},\n",
       "    {'article_id': 4378893,\n",
       "     'article_type': 1,\n",
       "     'title': 'Flamingo đánh thức tiềm năng du lịch biển Hải Tiến',\n",
       "     'lead': 'Flamingo vừa khởi công dự án Flamingo Hải Tiến nằm ở biển Linh Trường, Hải Tiến, Hoằng Hoá với kỳ vọng thay đổi diện mạo du lịch biển Hải Tiến.',\n",
       "     'share_url': 'https://vnexpress.net/flamingo-danh-thuc-tiem-nang-du-lich-bien-hai-tien-4378893.html',\n",
       "     'thumbnail_url': 'https://i-kinhdoanh.vnecdn.net/2021/10/30/lfm-1635555291-1635555310-8190-1635555359.png',\n",
       "     'publish_time': 1635559200,\n",
       "     'privacy': 128,\n",
       "     'article_category': {'cate_name': 'Bất động sản',\n",
       "      'cate_url': '/kinh-doanh/bat-dong-san',\n",
       "      'full_parent': '1003159'},\n",
       "     'off_thumb': 0,\n",
       "     'thumb_list': {'thumb_120_72_100_1_crop': 'https://i1-kinhdoanh.vnecdn.net/2021/10/30/lfm-1635555291-1635555310-8190-1635555359.png?w=120&h=72&q=100&dpr=1&fit=crop&s=WnaoyLhlFVAuQGopqtNJlg',\n",
       "      'thumb_120_72_100_2_crop': 'https://i1-kinhdoanh.vnecdn.net/2021/10/30/lfm-1635555291-1635555310-8190-1635555359.png?w=120&h=72&q=100&dpr=2&fit=crop&s=WwRpBfGRacCXpk6GUIxj4Q'}},\n",
       "    {'article_id': 4378389,\n",
       "     'article_type': 1,\n",
       "     'title': 'The 9 Stellars theo mô hình tiểu đô thị xanh thông minh',\n",
       "     'lead': 'Dự án The 9 Stellars tích hợp giải pháp công nghệ IoT, tiếp cận xu hướng sống hiện đại, đa tiện ích cho các cư dân thế hệ mới, trong môi trường sống trong lành.',\n",
       "     'share_url': 'https://vnexpress.net/the-9-stellars-theo-mo-hinh-tieu-do-thi-xanh-thong-minh-4378389.html',\n",
       "     'thumbnail_url': 'https://i-kinhdoanh.vnecdn.net/2021/10/29/Image-394154703-ExtractWord-0-3399-6958-1635487716.png',\n",
       "     'publish_time': 1635559200,\n",
       "     'privacy': 128,\n",
       "     'article_category': {'cate_name': 'Bất động sản',\n",
       "      'cate_url': '/kinh-doanh/bat-dong-san',\n",
       "      'full_parent': '1003159'},\n",
       "     'off_thumb': 0,\n",
       "     'thumb_list': {'thumb_120_72_100_1_crop': 'https://i1-kinhdoanh.vnecdn.net/2021/10/29/Image-394154703-ExtractWord-0-3399-6958-1635487716.png?w=120&h=72&q=100&dpr=1&fit=crop&s=Nn7JeRgE-Hy0-ZGLr9EFTw',\n",
       "      'thumb_120_72_100_2_crop': 'https://i1-kinhdoanh.vnecdn.net/2021/10/29/Image-394154703-ExtractWord-0-3399-6958-1635487716.png?w=120&h=72&q=100&dpr=2&fit=crop&s=AEpw6IQBeq_Nv72H42hh2Q'}},\n",
       "    {'article_id': 4377037,\n",
       "     'article_type': 1,\n",
       "     'title': 'Vinhomes Ocean Park đón xu hướng dịch chuyển về phía Đông Thủ đô',\n",
       "     'lead': 'Sự phát triển mạnh mẽ về hạ tầng giao thông góp phần giúp khu vực phía Đông Hà Nội thu hút một bộ phận lớn cư dân đến sinh sống.',\n",
       "     'share_url': 'https://vnexpress.net/vinhomes-ocean-park-don-xu-huong-dich-chuyen-ve-phia-dong-thu-do-4377037.html',\n",
       "     'thumbnail_url': 'https://i-kinhdoanh.vnecdn.net/2021/10/26/Image-ExtractWord-0-Out-6195-1635222158.png',\n",
       "     'publish_time': 1635555600,\n",
       "     'privacy': 128,\n",
       "     'article_category': {'cate_name': 'Bất động sản',\n",
       "      'cate_url': '/kinh-doanh/bat-dong-san',\n",
       "      'full_parent': '1003159'},\n",
       "     'off_thumb': 0,\n",
       "     'thumb_list': {'thumb_120_72_100_1_crop': 'https://i1-kinhdoanh.vnecdn.net/2021/10/26/Image-ExtractWord-0-Out-6195-1635222158.png?w=120&h=72&q=100&dpr=1&fit=crop&s=Z5go-yXpwcTGibRCJ11rXg',\n",
       "      'thumb_120_72_100_2_crop': 'https://i1-kinhdoanh.vnecdn.net/2021/10/26/Image-ExtractWord-0-Out-6195-1635222158.png?w=120&h=72&q=100&dpr=2&fit=crop&s=ZxAAEnJSr1wMdIneLt_fow'}},\n",
       "    {'article_id': 4378673,\n",
       "     'article_type': 1,\n",
       "     'title': 'Ba đòn bẩy giúp rã đông bất động sản',\n",
       "     'lead': 'Cú hích đầu tư công, khơi thông pháp lý, hỗ trợ nhà giá rẻ hứa hẹn giúp thị trường địa ốc hồi phục sau đợt đóng băng 4 tháng qua.',\n",
       "     'share_url': 'https://vnexpress.net/ba-don-bay-giup-ra-dong-bat-dong-san-4378673.html',\n",
       "     'thumbnail_url': 'https://i-kinhdoanh.vnecdn.net/2021/10/29/1quyn1716-jpeg-1635495984-5158-1635496048.jpg',\n",
       "     'publish_time': 1635484516,\n",
       "     'privacy': 2048,\n",
       "     'article_category': {'cate_name': 'Bất động sản',\n",
       "      'cate_url': '/kinh-doanh/bat-dong-san',\n",
       "      'full_parent': '1003159'},\n",
       "     'off_thumb': 0,\n",
       "     'thumb_list': {'thumb_120_72_100_1_crop': 'https://i1-kinhdoanh.vnecdn.net/2021/10/29/1quyn1716-jpeg-1635495984-5158-1635496048.jpg?w=120&h=72&q=100&dpr=1&fit=crop&s=oPo30GQf8JA8m7_AXJ46RQ',\n",
       "      'thumb_120_72_100_2_crop': 'https://i1-kinhdoanh.vnecdn.net/2021/10/29/1quyn1716-jpeg-1635495984-5158-1635496048.jpg?w=120&h=72&q=100&dpr=2&fit=crop&s=tBcAGqCEuXgC8ij0YVK8Og'}},\n",
       "    {'article_id': 4378681,\n",
       "     'article_type': 1,\n",
       "     'title': 'Startup định giá bất động sản gọi vốn thành công 1,3 triệu USD',\n",
       "     'lead': 'Citics, nền tảng công nghệ bất động sản có 3 \"tài năng trẻ dưới 30 tuổi\" do Forbes bình chọn, vừa gọi vốn thành công 1,3 triệu USD.',\n",
       "     'share_url': 'https://vnexpress.net/startup-dinh-gia-bat-dong-san-goi-von-thanh-cong-1-3-trieu-usd-4378681.html',\n",
       "     'thumbnail_url': 'https://i-kinhdoanh.vnecdn.net/2021/10/29/unnamed-1635481128-3147-1635481178.jpg',\n",
       "     'publish_time': 1635489700,\n",
       "     'privacy': 2048,\n",
       "     'article_category': {'cate_name': 'Bất động sản',\n",
       "      'cate_url': '/kinh-doanh/bat-dong-san',\n",
       "      'full_parent': '1003159'},\n",
       "     'off_thumb': 0,\n",
       "     'thumb_list': {'thumb_120_72_100_1_crop': 'https://i1-kinhdoanh.vnecdn.net/2021/10/29/unnamed-1635481128-3147-1635481178.jpg?w=120&h=72&q=100&dpr=1&fit=crop&s=fGwcL_o1LqcGPiLBBsKQQQ',\n",
       "      'thumb_120_72_100_2_crop': 'https://i1-kinhdoanh.vnecdn.net/2021/10/29/unnamed-1635481128-3147-1635481178.jpg?w=120&h=72&q=100&dpr=2&fit=crop&s=IclZnrcwqEr4gbnQUcZ9qQ'}},\n",
       "    {'article_id': 4375432,\n",
       "     'article_type': 1,\n",
       "     'title': 'Lợi thế pháp lý của nhà phố CIC-Luxury',\n",
       "     'lead': '105 căn shophouse thuộc dự án CIC-Luxury, TP Lào Cai thu hút các nhà đầu tư bởi yếu tố: vị trí, tiện ích, thương hiệu và tính pháp lý.',\n",
       "     'share_url': 'https://vnexpress.net/loi-the-phap-ly-cua-nha-pho-cic-luxury-4375432.html',\n",
       "     'thumbnail_url': 'https://i-kinhdoanh.vnecdn.net/2021/10/29/image001-1635489634-1635489645-2414-1635489678.jpg',\n",
       "     'publish_time': 1635494400,\n",
       "     'privacy': 128,\n",
       "     'article_category': {'cate_name': 'Bất động sản',\n",
       "      'cate_url': '/kinh-doanh/bat-dong-san',\n",
       "      'full_parent': '1003159'},\n",
       "     'off_thumb': 0,\n",
       "     'thumb_list': {'thumb_120_72_100_1_crop': 'https://i1-kinhdoanh.vnecdn.net/2021/10/29/image001-1635489634-1635489645-2414-1635489678.jpg?w=120&h=72&q=100&dpr=1&fit=crop&s=YpLQ_kJfO8SKPiQUvWpOzw',\n",
       "      'thumb_120_72_100_2_crop': 'https://i1-kinhdoanh.vnecdn.net/2021/10/29/image001-1635489634-1635489645-2414-1635489678.jpg?w=120&h=72&q=100&dpr=2&fit=crop&s=aWsJPtll8Nz5z5WuVEjc0w'}},\n",
       "    {'article_id': 4378390,\n",
       "     'article_type': 1,\n",
       "     'title': 'Masterise Homes ra mắt đại lộ mua sắm, giải trí phía Đông Hà Nội',\n",
       "     'lead': 'Tọa lạc giữa trung tâm dự án căn hộ Masteri Waterfront, Malibu Walk sở hữu hệ tiện ích độc đáo cùng chuỗi các nhà hàng, khu shophouse cao cấp…',\n",
       "     'share_url': 'https://vnexpress.net/masterise-homes-ra-mat-dai-lo-mua-sam-giai-tri-phia-dong-ha-noi-4378390.html',\n",
       "     'thumbnail_url': 'https://i-kinhdoanh.vnecdn.net/2021/10/29/mth-masterise-malibu-view-09-a-1909-9039-1635488668.jpg',\n",
       "     'publish_time': 1635487200,\n",
       "     'privacy': 128,\n",
       "     'article_category': {'cate_name': 'Bất động sản',\n",
       "      'cate_url': '/kinh-doanh/bat-dong-san',\n",
       "      'full_parent': '1003159'},\n",
       "     'off_thumb': 0,\n",
       "     'thumb_list': {'thumb_120_72_100_1_crop': 'https://i1-kinhdoanh.vnecdn.net/2021/10/29/mth-masterise-malibu-view-09-a-1909-9039-1635488668.jpg?w=120&h=72&q=100&dpr=1&fit=crop&s=o4MjQAiLkUJuHGlQQCXC9A',\n",
       "      'thumb_120_72_100_2_crop': 'https://i1-kinhdoanh.vnecdn.net/2021/10/29/mth-masterise-malibu-view-09-a-1909-9039-1635488668.jpg?w=120&h=72&q=100&dpr=2&fit=crop&s=FhUqSaIuwgKz04JT3KpOSg'}},\n",
       "    {'article_id': 4378334,\n",
       "     'article_type': 1,\n",
       "     'title': 'Người Việt chi hàng chục tỷ đồng định cư Ireland',\n",
       "     'lead': 'Dự án viện dưỡng lão Cookstown của Bartra đã huy động 6 triệu euro trong hai tuần qua chương trình đầu tư định cư Ireland IIP, trong đó không ít nhà đầu tư Việt Nam.',\n",
       "     'share_url': 'https://vnexpress.net/nguoi-viet-chi-hang-chuc-ty-dong-dinh-cu-ireland-4378334.html',\n",
       "     'thumbnail_url': 'https://i-kinhdoanh.vnecdn.net/2021/10/28/Image-ExtractWord-0-Out-7898-1635414327.png',\n",
       "     'publish_time': 1635483600,\n",
       "     'privacy': 128,\n",
       "     'article_category': {'cate_name': 'Bất động sản',\n",
       "      'cate_url': '/kinh-doanh/bat-dong-san',\n",
       "      'full_parent': '1003159'},\n",
       "     'off_thumb': 0,\n",
       "     'thumb_list': {'thumb_120_72_100_1_crop': 'https://i1-kinhdoanh.vnecdn.net/2021/10/28/Image-ExtractWord-0-Out-7898-1635414327.png?w=120&h=72&q=100&dpr=1&fit=crop&s=5Q1HDXB18PCn9FXG0miNaQ',\n",
       "      'thumb_120_72_100_2_crop': 'https://i1-kinhdoanh.vnecdn.net/2021/10/28/Image-ExtractWord-0-Out-7898-1635414327.png?w=120&h=72&q=100&dpr=2&fit=crop&s=WgH5EUaBcW5JyHAEGYiWMw'}}]}}}"
      ]
     },
     "execution_count": 13,
     "metadata": {},
     "output_type": "execute_result"
    }
   ],
   "source": [
    "data = json.loads(raw_data)\n",
    "data"
   ]
  },
  {
   "cell_type": "code",
   "execution_count": 23,
   "id": "458687a9",
   "metadata": {},
   "outputs": [
    {
     "data": {
      "text/plain": [
       "{'article_id': 4379543,\n",
       " 'article_type': 1,\n",
       " 'title': 'Sun Property nâng tầm giá trị sống tại dự án Sun Tropical Village',\n",
       " 'lead': 'Theo chủ đầu tư, cư dân \"ngôi làng nhiệt đới\" Sun Tropical Village được hưởng dịch vụ 5 sao tại gia, cùng chuỗi tiện ích chăm sóc sức khỏe đẳng cấp.',\n",
       " 'share_url': 'https://vnexpress.net/sun-property-nang-tam-gia-tri-song-tai-du-an-sun-tropical-village-4379543.html',\n",
       " 'thumbnail_url': 'https://i-kinhdoanh.vnecdn.net/2021/10/31/anh-2-1635694049-1222-1635694280.jpg',\n",
       " 'publish_time': 1635732000,\n",
       " 'privacy': 128,\n",
       " 'article_category': {'cate_name': 'Bất động sản',\n",
       "  'cate_url': '/kinh-doanh/bat-dong-san',\n",
       "  'full_parent': '1003159'},\n",
       " 'off_thumb': 0,\n",
       " 'thumb_list': {'thumb_120_72_100_1_crop': 'https://i1-kinhdoanh.vnecdn.net/2021/10/31/anh-2-1635694049-1222-1635694280.jpg?w=120&h=72&q=100&dpr=1&fit=crop&s=a4t7Ym_jcc6xMTHqs2f6SA',\n",
       "  'thumb_120_72_100_2_crop': 'https://i1-kinhdoanh.vnecdn.net/2021/10/31/anh-2-1635694049-1222-1635694280.jpg?w=120&h=72&q=100&dpr=2&fit=crop&s=s1J7P4SuIYC0_r0Sf6Rgww'}}"
      ]
     },
     "execution_count": 23,
     "metadata": {},
     "output_type": "execute_result"
    }
   ],
   "source": [
    "data['data']['1003181']['data'][0]"
   ]
  },
  {
   "cell_type": "code",
   "execution_count": 44,
   "id": "abba6925",
   "metadata": {},
   "outputs": [],
   "source": [
    "raw_articles = data['data']['1003181']['data']"
   ]
  },
  {
   "cell_type": "code",
   "execution_count": 48,
   "id": "46ee0023",
   "metadata": {},
   "outputs": [
    {
     "name": "stdout",
     "output_type": "stream",
     "text": [
      "2021-10-28 10:15:00\n"
     ]
    }
   ],
   "source": [
    "# handle time\n",
    "from datetime import datetime\n",
    "\n",
    "timestamp = data['data']['1003181']['data'][0]['publish_time']\n",
    "# dt_object = datetime.fromtimestamp(timestamp)\n",
    "pd.to_datetime('01.11.2021')\n",
    "print(str(pd.to_datetime('28/10/2021  10:15')))"
   ]
  },
  {
   "cell_type": "code",
   "execution_count": null,
   "id": "0975ed71",
   "metadata": {},
   "outputs": [],
   "source": [
    "# change maxItems to get the number of results that you want\n",
    "articles = []\n",
    "for article in raw_articles:\n",
    "    new_article_format = {'author': \"VNExpress\", 'title': article['title'],\n",
    "                          'description': article['lead'],\n",
    "                          'url': article['share_url'], 'urlToImage': article['thumbnail_url'],\n",
    "                          'publishedAt': convert_timestamp(article['publish_time']), 'content': article['lead'],\n",
    "                          'source': {}}\n",
    "    new_article_format['source']['id'] = \"vnexpress.net\"\n",
    "    new_article_format['source']['name'] = \"VNExpress.net\"\n",
    "    articles.append(new_article_format)\n",
    "# print(articles)\n",
    "return articles"
   ]
  },
  {
   "cell_type": "markdown",
   "id": "5d58b2cf",
   "metadata": {},
   "source": [
    "# VTVNews"
   ]
  },
  {
   "cell_type": "code",
   "execution_count": null,
   "id": "35edf295",
   "metadata": {},
   "outputs": [],
   "source": []
  }
 ],
 "metadata": {
  "kernelspec": {
   "display_name": "Tap-news",
   "language": "python",
   "name": "tap-news"
  },
  "language_info": {
   "codemirror_mode": {
    "name": "ipython",
    "version": 3
   },
   "file_extension": ".py",
   "mimetype": "text/x-python",
   "name": "python",
   "nbconvert_exporter": "python",
   "pygments_lexer": "ipython3",
   "version": "3.7.9"
  }
 },
 "nbformat": 4,
 "nbformat_minor": 5
}
